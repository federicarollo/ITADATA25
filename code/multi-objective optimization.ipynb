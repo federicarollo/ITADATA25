{
 "cells": [
  {
   "cell_type": "markdown",
   "id": "db717099-80d0-4022-8140-00f65d3fc676",
   "metadata": {},
   "source": [
    "# Multi-Object Optimization"
   ]
  },
  {
   "cell_type": "markdown",
   "id": "c4c8391f-6df4-4445-96fb-d79870750011",
   "metadata": {},
   "source": [
    "This notebook allows the identification of paths that balance multiple objectives, e.g., distance, comfort, safety, for pedestrians and cyclists.\n",
    "\n",
    "The graphs used are created using Neo4j through the code in the GitHub repository: [https://github.com/federicarollo/GRAFMOVE](https://github.com/federicarollo/GRAFMOVE).\n",
    "\n",
    "Then, each graph was extracted as a collection of two CSV files, available in the **[data folder](https://github.com/federicarollo/ITADATA25/data)**, using the following Cypher queries:\n",
    "\n",
    "- `MATCH (n) RETURN id(n) AS id, labels(n) AS labels, apoc.convert.toJson(properties(n)) AS properties` for nodes\n",
    "- `MATCH (n)-[r]->(m) RETURN id(n) as source, id(m) as target, type(r) as type, apoc.convert.toJson(properties(r)) as properties` for edges"
   ]
  },
  {
   "cell_type": "markdown",
   "id": "6dee4273-efab-430f-bdbb-9e0f0db92ab6",
   "metadata": {},
   "source": [
    "The graph structure follows the OpenStreetMap (OSM) structure:\n",
    "- **Nodes** represent OSM-defined junctions or road shape points, mantaining the OSM identifier and the GPS coordinates as properties,\n",
    "- **Edges** correspond to roads, with properties that describe their shape, length, type. The direction of the edge indicates the permitted travel direction.\n",
    "\n",
    "<img src=\"https://raw.githubusercontent.com/federicarollo/ITADATA25/main/data/images/osm_structure_and_green.png\" style=\"display: block; margin-left: auto; margin-right: auto;\" alt=\"OSM structure\" width=\"700\"/>\n"
   ]
  },
  {
   "cell_type": "markdown",
   "id": "5eeac637-4ac9-4d62-8eac-f3c29574dc89",
   "metadata": {},
   "source": [
    "<div>\n",
    "  <br><br>    \n",
    "  <p style=\"float: left; width: 50%;\">\n",
    "    <b>FootNodes</b> represent nodes where pedestrian access is allowed, whereas <b>BikeNodes</b> correspond to nodes for cyclists.<br>ROUTE edges represent the roads.<br><br>The graph is enriched by the localization of the Point Of Interests (POIs) represented by the <b>POI</b> nodes, and linked to the corresponding elements in OSM (<b>OSMNode</b> or <b>OSMWay</b> if they are stored in OSM as node or way, respectively). The <b>Tag</b> nodes store the characteristics of the POIs (e.g., name, type such touristic attraction or parking).\n",
    "  </p>\n",
    "  <img src=\"https://raw.githubusercontent.com/federicarollo/ITADATA25/main/data/images/graph structure.png\" style=\"display: block; margin-left: auto; margin-right: auto;\" alt=\"Graph structure\" style=\"float: right; width: 40%;\">\n",
    "</div>\n",
    "<div style=\"clear: both;\"></div>"
   ]
  },
  {
   "cell_type": "markdown",
   "id": "b9986a0f-0b80-4d1f-9d9b-40082e517a47",
   "metadata": {},
   "source": [
    "## Configuration parameters"
   ]
  },
  {
   "cell_type": "code",
   "execution_count": 1,
   "id": "5b5d4a00-37ed-4219-8a9a-d4234b3c707f",
   "metadata": {},
   "outputs": [],
   "source": [
    "# nodes_filename = \"../data/graphs/Modena/modena_nodes.csv\"\n",
    "# edges_filename = \"../data/graphs/Modena/modena_edges.csv\"\n",
    "\n",
    "nodes_filename = \"https://raw.githubusercontent.com/federicarollo/ITADATA25/main/data/graphs/Modena/modena_nodes.csv\"\n",
    "edges_filename = \"https://raw.githubusercontent.com/federicarollo/ITADATA25/main/data/graphs/Modena/modena_edges.csv\""
   ]
  },
  {
   "cell_type": "markdown",
   "id": "1634ba61-69d0-4774-8805-e96cf6fe6256",
   "metadata": {},
   "source": [
    "## Import libraries"
   ]
  },
  {
   "cell_type": "markdown",
   "id": "045595fa-f80a-4d3a-a48c-abb4a7b95939",
   "metadata": {},
   "source": [
    "Uncomment the following two cells if you need to install libraries"
   ]
  },
  {
   "cell_type": "code",
   "execution_count": 5,
   "id": "0c8433a0-6e0e-404d-a708-eba8945c08d0",
   "metadata": {},
   "outputs": [],
   "source": [
    "# !pip install torch_geometric"
   ]
  },
  {
   "cell_type": "code",
   "execution_count": 6,
   "id": "e9762cda-68aa-48f9-9c83-872132966a7f",
   "metadata": {},
   "outputs": [],
   "source": [
    "# !pip install pymoo"
   ]
  },
  {
   "cell_type": "code",
   "execution_count": 3,
   "id": "192a4507-460b-4647-871c-7354180acdf6",
   "metadata": {},
   "outputs": [],
   "source": [
    "import networkx as nx\n",
    "import numpy as np\n",
    "import pandas as pd\n",
    "import json\n",
    "\n",
    "import torch\n",
    "import torch.nn.functional as F\n",
    "from torch_geometric.nn import GCNConv\n",
    "from torch_geometric.data import Data\n",
    "\n",
    "from pymoo.core.problem import Problem\n",
    "from pymoo.algorithms.moo.nsga2 import NSGA2\n",
    "from pymoo.optimize import minimize\n",
    "from pymoo.indicators.hv import HV\n",
    "from pymoo.visualization.scatter import Scatter\n",
    "from pymoo.termination.default import DefaultMultiObjectiveTermination\n",
    "\n",
    "import matplotlib.pyplot as plt\n",
    "from mpl_toolkits.mplot3d import Axes3D\n",
    "\n",
    "import folium as fo"
   ]
  },
  {
   "cell_type": "code",
   "execution_count": 4,
   "id": "f33fef2f-f0f9-454b-bf24-dfcb6eba1fff",
   "metadata": {},
   "outputs": [],
   "source": [
    "import ast\n",
    "\n",
    "def double_unescape_json(s):\n",
    "    s = s.replace(\"\\\\n\", \"\")\n",
    "    try:\n",
    "        return ast.literal_eval(s)\n",
    "    except (ValueError, SyntaxError):\n",
    "        try:\n",
    "            unescaped = s.encode('utf-8').decode('unicode_escape')\n",
    "            return json.loads(unescaped)\n",
    "        except json.JSONDecodeError:\n",
    "            print(f\"Warning: Could not parse properties string: {s}\")\n",
    "            return {}"
   ]
  },
  {
   "attachments": {},
   "cell_type": "markdown",
   "id": "1292d9ea-5fc2-4ba8-880f-919d93dff786",
   "metadata": {},
   "source": [
    "## Step 1 – Graph Import"
   ]
  },
  {
   "cell_type": "code",
   "execution_count": 8,
   "id": "670ab922-a6e1-4554-96bc-77a2e4a28c91",
   "metadata": {},
   "outputs": [],
   "source": [
    "nodes_df = pd.read_csv(nodes_filename)\n",
    "edges_df = pd.read_csv(edges_filename)"
   ]
  },
  {
   "cell_type": "code",
   "execution_count": 9,
   "id": "de28b243-7f4c-4e07-bd19-7a32932d7d49",
   "metadata": {},
   "outputs": [
    {
     "data": {
      "text/plain": [
       "(60949, 3)"
      ]
     },
     "execution_count": 9,
     "metadata": {},
     "output_type": "execute_result"
    }
   ],
   "source": [
    "nodes_df.shape"
   ]
  },
  {
   "cell_type": "markdown",
   "id": "cd57be49-90fe-4f99-ad89-4870d0cf905a",
   "metadata": {},
   "source": [
    "### Time-dependent properties vs time invariant properties"
   ]
  },
  {
   "cell_type": "code",
   "execution_count": 11,
   "id": "b7ce8068-d46a-4d80-ab04-57b4a559d06d",
   "metadata": {},
   "outputs": [
    {
     "data": {
      "text/plain": [
       "'{\\\\\"crash_risk\\\\\":[0.2,1.1317460317460317,0.0,0.3713675213675213],\\\\\"distance\\\\\":139.06596543109077,\\\\\"green_area\\\\\":0,\\\\\"green_area_weight\\\\\":139.06596543109077,\\\\\"length\\\\\":\\\\\"138.9104844602295\\\\\",\\\\\"maxspeed\\\\\":\\\\\"70\\\\\",\\\\\"crash_risk_density\\\\\":[8.373572785294012E-6,4.7383788856465315E-5,0.0,1.5548364851325846E-5],\\\\\"oneway\\\\\":\\\\\"True\\\\\",\\\\\"ref\\\\\":\\\\\"SS724\\\\\",\\\\\"crash_risk_per_meter\\\\\":[0.0011644789834944196,0.00658947234310731,0.0,0.002162248368924467],\\\\\"crash_risk_density_norm\\\\\":[0.060809186016005864,0.1828168482443171,0.0,0.04031274398437343],\\\\\"name\\\\\":\\\\\"Tangenziale Sud Gabriela Mistral\\\\\",\\\\\"lanes\\\\\":\\\\\"2\\\\\",\\\\\"geometry\\\\\":\\\\\"LINESTRING(10.8764911 44.6444336, 10.8759706 44.6456267)\\\\\",\\\\\"highway\\\\\":\\\\\"trunk\\\\\",\\\\\"reversed\\\\\":\\\\\"False\\\\\"}'"
      ]
     },
     "execution_count": 11,
     "metadata": {},
     "output_type": "execute_result"
    }
   ],
   "source": [
    "edges_df['properties'][233]"
   ]
  },
  {
   "cell_type": "code",
   "execution_count": 12,
   "id": "2d3c3204-df2b-4073-a628-4f7131fdc151",
   "metadata": {},
   "outputs": [
    {
     "data": {
      "text/plain": [
       "{'crash_risk': [0.2, 1.1317460317460317, 0.0, 0.3713675213675213],\n",
       " 'distance': 139.06596543109077,\n",
       " 'green_area': 0,\n",
       " 'green_area_weight': 139.06596543109077,\n",
       " 'length': '138.9104844602295',\n",
       " 'maxspeed': '70',\n",
       " 'crash_risk_density': [8.373572785294012e-06,\n",
       "  4.7383788856465315e-05,\n",
       "  0.0,\n",
       "  1.5548364851325846e-05],\n",
       " 'oneway': 'True',\n",
       " 'ref': 'SS724',\n",
       " 'crash_risk_per_meter': [0.0011644789834944196,\n",
       "  0.00658947234310731,\n",
       "  0.0,\n",
       "  0.002162248368924467],\n",
       " 'crash_risk_density_norm': [0.060809186016005864,\n",
       "  0.1828168482443171,\n",
       "  0.0,\n",
       "  0.04031274398437343],\n",
       " 'name': 'Tangenziale Sud Gabriela Mistral',\n",
       " 'lanes': '2',\n",
       " 'geometry': 'LINESTRING(10.8764911 44.6444336, 10.8759706 44.6456267)',\n",
       " 'highway': 'trunk',\n",
       " 'reversed': 'False'}"
      ]
     },
     "execution_count": 12,
     "metadata": {},
     "output_type": "execute_result"
    }
   ],
   "source": [
    "double_unescape_json(edges_df['properties'][233])"
   ]
  },
  {
   "cell_type": "code",
   "execution_count": 13,
   "id": "d389bed0-ac6a-42d3-9368-417517777f5d",
   "metadata": {},
   "outputs": [
    {
     "data": {
      "text/plain": [
       "139.06596543109077"
      ]
     },
     "execution_count": 13,
     "metadata": {},
     "output_type": "execute_result"
    }
   ],
   "source": [
    "double_unescape_json(edges_df['properties'][233])['distance']"
   ]
  },
  {
   "cell_type": "code",
   "execution_count": 14,
   "id": "ce353cd2-654f-4b49-8f83-ed56c65c95ea",
   "metadata": {},
   "outputs": [
    {
     "data": {
      "text/plain": [
       "[0.060809186016005864, 0.1828168482443171, 0.0, 0.04031274398437343]"
      ]
     },
     "execution_count": 14,
     "metadata": {},
     "output_type": "execute_result"
    }
   ],
   "source": [
    "double_unescape_json(edges_df['properties'][233])['crash_risk_density_norm']"
   ]
  },
  {
   "cell_type": "markdown",
   "id": "31bd7d0f-7f36-4a4c-9a17-69944a54a00c",
   "metadata": {},
   "source": [
    "### Load the graph"
   ]
  },
  {
   "cell_type": "code",
   "execution_count": 16,
   "id": "49db0520-cf45-4af6-8f95-a1fc4f2ffe13",
   "metadata": {},
   "outputs": [
    {
     "name": "stdout",
     "output_type": "stream",
     "text": [
      "CPU times: total: 30 s\n",
      "Wall time: 30.7 s\n"
     ]
    }
   ],
   "source": [
    "%%time\n",
    "\n",
    "G = nx.DiGraph()\n",
    "\n",
    "for _, row in nodes_df.iterrows():\n",
    "    properties = double_unescape_json(row['properties'])\n",
    "    G.add_node(row['id'], labels=row['labels'], **properties)\n",
    "\n",
    "for _, row in edges_df.iterrows():\n",
    "    properties = double_unescape_json(row['properties'])\n",
    "    G.add_edge(row['source'], row['target'], label=row['type'], **properties)"
   ]
  },
  {
   "cell_type": "code",
   "execution_count": 17,
   "id": "ce76c2a8-6916-4b69-8c7a-5ad63020a21a",
   "metadata": {},
   "outputs": [
    {
     "name": "stdout",
     "output_type": "stream",
     "text": [
      "Nodes: 60949, Edges: 166378\n"
     ]
    }
   ],
   "source": [
    "print(f\"Nodes: {len(G.nodes())}, Edges: {len(G.edges())}\")"
   ]
  },
  {
   "cell_type": "markdown",
   "id": "89688777-5a2a-44a6-8da7-7713ff5e4efb",
   "metadata": {},
   "source": [
    "### What are the properties of the FootNode instances?"
   ]
  },
  {
   "cell_type": "code",
   "execution_count": 19,
   "id": "4fee4b77-69d8-449e-9dc2-fd8c69d548c1",
   "metadata": {},
   "outputs": [
    {
     "name": "stdout",
     "output_type": "stream",
     "text": [
      "Properties of FootNode instances: {'longitude', 'location', 'geometry', 'ref', 'x', 'lat', 'componentId', 'pedestrian_allowed_grafmove', 'id', 'railway', 'cyclist_allowed_grafmove', 'highway', 'lon', 'bbox', 'street_count', 'green_area', 'gtype', 'y', 'latitude'}\n"
     ]
    }
   ],
   "source": [
    "node_properties = set()\n",
    "\n",
    "for _, data in G.nodes(data=True):\n",
    "    if 'FootNode' in data.get('labels', []):\n",
    "        # Aggiungi tutte le chiavi tranne 'labels'\n",
    "        node_properties.update(k for k in data.keys() if k != 'labels')\n",
    "\n",
    "print(f\"Properties of FootNode instances: {node_properties}\")"
   ]
  },
  {
   "cell_type": "markdown",
   "id": "25f51585-7778-457f-b474-5f24fd049484",
   "metadata": {},
   "source": [
    "### What are the properties of the ROUTE edge instances?"
   ]
  },
  {
   "cell_type": "code",
   "execution_count": 21,
   "id": "3b1fc9b3-54af-4e67-9407-b16a17a4b11f",
   "metadata": {},
   "outputs": [
    {
     "name": "stdout",
     "output_type": "stream",
     "text": [
      "Properties of ROUTE instances: {'crash_risk', 'geometry', 'ref', 'foot_class', 'tunnel', 'crash_risk_per_meter', 'label', 'reversed', 'crs', 'distance', 'access', 'maxspeed', 'created_date', 'created_with', 'service', 'crash_risk_density_norm', 'bridge', 'width', 'length', 'highway', 'green_area', 'name', 'green_area_weight', 'oneway', 'bike_class', 'junction', 'lanes', 'crash_risk_density'}\n"
     ]
    }
   ],
   "source": [
    "edge_property = set()\n",
    "\n",
    "for u, v, data in G.edges(data=True):\n",
    "    if data.get('label') == 'ROUTE':\n",
    "        edge_property.update(k for k in data.keys() if k != 'labels')\n",
    "\n",
    "print(f\"Properties of ROUTE instances: {edge_property}\")"
   ]
  },
  {
   "cell_type": "markdown",
   "id": "a5d4b367-4620-4800-97cb-206ffbc10168",
   "metadata": {},
   "source": [
    "### What are all the possible values of the *highway* property of ROUTE?"
   ]
  },
  {
   "cell_type": "code",
   "execution_count": 23,
   "id": "245b9c13-6546-4293-b12d-cf4522b5ad24",
   "metadata": {},
   "outputs": [
    {
     "name": "stdout",
     "output_type": "stream",
     "text": [
      "{'trunk', 'path', 'secondary', 'busway', 'trunk_link', 'primary', 'cycleway', 'elevator', 'living_street', 'pedestrian', 'service', 'steps', 'motorway', 'motorway_link', 'residential', 'tertiary', 'footway', 'unclassified', 'track', 'tertiary_link', 'secondary_link', 'primary_link'}\n"
     ]
    }
   ],
   "source": [
    "highway_values = set()\n",
    "\n",
    "for _, _, data in G.edges(data=True):\n",
    "    if data.get('label') == 'ROUTE' and 'highway' in data:\n",
    "        highway_values.add(data['highway'])\n",
    "\n",
    "print(highway_values)"
   ]
  },
  {
   "cell_type": "markdown",
   "id": "d0f6690d-2390-450f-9431-520b5e32fa47",
   "metadata": {},
   "source": [
    "### Road length values"
   ]
  },
  {
   "cell_type": "code",
   "execution_count": 25,
   "id": "b4c19f01-0b63-4e1c-8774-35a2a47d23ca",
   "metadata": {},
   "outputs": [],
   "source": [
    "route_distances = [\n",
    "    data['distance']\n",
    "    for u, v, data in G.edges(data=True)\n",
    "    if data.get('label') == 'ROUTE' and 'distance' in data\n",
    "]"
   ]
  },
  {
   "cell_type": "code",
   "execution_count": null,
   "id": "3ea555f6-b72f-4a3b-97bf-bbe59e9a29a4",
   "metadata": {},
   "outputs": [],
   "source": [
    "plt.boxplot(route_distances)\n",
    "plt.title(\"Boxplot of Route Distances\")\n",
    "plt.ylabel(\"Distance\")\n",
    "plt.grid(True)\n",
    "plt.show()"
   ]
  },
  {
   "cell_type": "markdown",
   "id": "4fd157b5-b0ae-4f64-aa00-373bd622d6c3",
   "metadata": {},
   "source": [
    "## Step 2 - Path generation"
   ]
  },
  {
   "cell_type": "markdown",
   "id": "c6b9e2ca-b592-43db-96c5-589bb5f08b05",
   "metadata": {},
   "source": [
    "### Configuration parameters"
   ]
  },
  {
   "cell_type": "code",
   "execution_count": 26,
   "id": "90173b45-c92b-4a17-9137-4f5079b8bfb5",
   "metadata": {},
   "outputs": [],
   "source": [
    "OBJS_NOTIME = [\"distance\", \"green_area_weight\"]\n",
    "OBJS_TIME = [\"crash_risk_density_norm\"] # or pm25_per_meter\n",
    "TIME_INTERVAL = 0 # one of the following values: {NIGHT: 0, MORNING: 1, AFTERNOON: 2, EVENING: 3}\n",
    "\n",
    "N_OBJS = len(OBJS_NOTIME+OBJS_TIME)\n",
    "OBJS = OBJS_NOTIME + OBJS_TIME\n",
    "\n",
    "N_CANDIDATE_PATHS = 1000"
   ]
  },
  {
   "cell_type": "markdown",
   "id": "ecc014cb-8a80-4672-ac62-9e95f35cdea4",
   "metadata": {},
   "source": [
    "### Subgraph definition: pedestrians or cyclists?"
   ]
  },
  {
   "cell_type": "code",
   "execution_count": 28,
   "id": "738d3e58-ddf0-48d5-9363-d2bf7b195abf",
   "metadata": {},
   "outputs": [
    {
     "name": "stdout",
     "output_type": "stream",
     "text": [
      "CPU times: total: 1min 8s\n",
      "Wall time: 1min 10s\n"
     ]
    }
   ],
   "source": [
    "%%time\n",
    "\n",
    "foot_nodes = [\n",
    "    n for n, data in G.nodes(data=True)\n",
    "    if \"labels\" in data and \"FootNode\" in data[\"labels\"]\n",
    "]\n",
    "\n",
    "route_edges = [\n",
    "    (u, v) for u, v, data in G.edges(data=True)\n",
    "    if \"label\" in data and data[\"label\"] == \"ROUTE\"\n",
    "    and u in foot_nodes and v in foot_nodes\n",
    "]\n",
    "\n",
    "H = G.edge_subgraph(route_edges).copy()"
   ]
  },
  {
   "cell_type": "code",
   "execution_count": 29,
   "id": "ee225482-f5a3-4934-a4b0-9e1cdfadd407",
   "metadata": {},
   "outputs": [
    {
     "name": "stdout",
     "output_type": "stream",
     "text": [
      "Nodes: 40523, Edges: 86039\n"
     ]
    }
   ],
   "source": [
    "print(f\"Nodes: {len(H.nodes())}, Edges: {len(H.edges())}\")"
   ]
  },
  {
   "cell_type": "markdown",
   "id": "db7ffe82-1a0d-43de-a93d-945ba2b36801",
   "metadata": {},
   "source": [
    "### Generate candidate paths"
   ]
  },
  {
   "cell_type": "markdown",
   "id": "8a52a6a8-5a03-468d-bdfb-9980af352773",
   "metadata": {},
   "source": [
    "The *get_candidate_paths* function takes as input:\n",
    "- the graph H\n",
    "- the OpenstreetMap identifiers (as string) of the source and target nodes (these nodes can be visualized in OSM by replacing the identifier in a link like https://www.openstreetmap.org/node/2093992765)\n",
    "- the number of paths to generate (optional)\n",
    "\n",
    "and provides as output a set of *num_paths* paths between source and target"
   ]
  },
  {
   "cell_type": "code",
   "execution_count": 32,
   "id": "8124403f-1b1f-492b-96cb-23030b781fe0",
   "metadata": {},
   "outputs": [],
   "source": [
    "def get_candidate_paths(G, source, target, num_paths=10):\n",
    "    paths = []\n",
    "    \n",
    "    for node, data in G.nodes(data=True):\n",
    "        if 'FootNode' in data.get('labels', []) and str(data.get(\"id\")) == source:\n",
    "            source_node = node\n",
    "            print(\"Source node found:\", node)\n",
    "            break\n",
    "    else:\n",
    "        print(\"Source node not found.\")\n",
    "\n",
    "    for node, data in G.nodes(data=True):\n",
    "        if 'FootNode' in data.get('labels', []) and str(data.get(\"id\")) == target:\n",
    "            target_node = node\n",
    "            print(\"Target node found:\", node)\n",
    "            break\n",
    "    else:\n",
    "        print(\"Target node not found.\")\n",
    "    \n",
    "    for obj in OBJS_NOTIME:\n",
    "        paths.append(nx.shortest_path(G, source_node, target_node, weight=obj))\n",
    "    for obj in OBJS_TIME:\n",
    "        paths.append(nx.shortest_path(G, source_node, target_node, weight=obj[TIME_INTERVAL]))\n",
    "    for _ in range(num_paths - N_OBJS):\n",
    "        random_path = nx.shortest_path(G, source_node, target_node, weight=lambda u, v, d: torch.rand(1).item())\n",
    "        paths.append(random_path)\n",
    "        \n",
    "    return paths"
   ]
  },
  {
   "cell_type": "markdown",
   "id": "5e8c1842-df69-4412-8f35-2abdeb88390f",
   "metadata": {},
   "source": [
    "Choose one of these exemplar origin-destination points:"
   ]
  },
  {
   "cell_type": "code",
   "execution_count": 34,
   "id": "0be19092-9186-41bf-a4b9-d1dd60797858",
   "metadata": {},
   "outputs": [
    {
     "name": "stdout",
     "output_type": "stream",
     "text": [
      "Source node found: 39769\n",
      "Target node found: 17788\n",
      "CPU times: total: 2min 55s\n",
      "Wall time: 3min\n"
     ]
    }
   ],
   "source": [
    "%%time\n",
    "\n",
    "\n",
    "# ---------- FERRARA ---------- \n",
    "# s, t = \"1150817556\", \"2093992765\"\n",
    "# s, t =\"2711436174\", \"2093992765\"\n",
    "# s, t =\"958004696\", \"259040297\"\n",
    "# s, t =\"2211349960\", \"1836899403\"\n",
    "\n",
    "\n",
    "# ---------- MODENA ---------- \n",
    "s, t =\"10053840073\", \"2041913868\"\n",
    "# s, t =\"250846426\", \"256411970\"\n",
    "# s, t =\"250850846\", \"2021402066\"\n",
    "\n",
    "\n",
    "paths = get_candidate_paths(H, source=s, target=t, num_paths=N_CANDIDATE_PATHS)"
   ]
  },
  {
   "cell_type": "code",
   "execution_count": 35,
   "id": "fcfa565e-84fd-4b53-b6c6-916ea2e281bf",
   "metadata": {},
   "outputs": [
    {
     "name": "stdout",
     "output_type": "stream",
     "text": [
      "Number of paths: 1000\n"
     ]
    }
   ],
   "source": [
    "print(f\"Number of paths: {len(paths)}\")"
   ]
  },
  {
   "cell_type": "code",
   "execution_count": 36,
   "id": "10ba5aa2-bbd2-4094-857d-e5ce6fc748bb",
   "metadata": {},
   "outputs": [],
   "source": [
    "no_duplicates = []\n",
    "\n",
    "for element in paths:\n",
    "    if(element not in no_duplicates):\n",
    "        no_duplicates.append(element)"
   ]
  },
  {
   "cell_type": "code",
   "execution_count": 37,
   "id": "5b50f0dd-1ea6-4439-9e14-0b0e3ab5054f",
   "metadata": {},
   "outputs": [
    {
     "name": "stdout",
     "output_type": "stream",
     "text": [
      "Number of non duplicated paths: 944\n"
     ]
    }
   ],
   "source": [
    "print(f\"Number of non duplicated paths: {len(no_duplicates)}\")"
   ]
  },
  {
   "cell_type": "code",
   "execution_count": 38,
   "id": "762ffa63-0ef2-4187-a029-bf39edc88861",
   "metadata": {},
   "outputs": [],
   "source": [
    "def evaluate_path(G, path):\n",
    "    eval_objs = {}\n",
    "\n",
    "    for obj in OBJS_NOTIME:\n",
    "        eval_objs[obj] = 0\n",
    "    for obj in OBJS_TIME:\n",
    "        eval_objs[obj] = 0\n",
    "\n",
    "    for i in range(len(path)-1):\n",
    "        u, v = path[i], path[i+1]\n",
    "        \n",
    "        for obj in OBJS_NOTIME:\n",
    "            eval_objs[obj] += G.edges[u, v][obj]\n",
    "        for obj in OBJS_TIME:\n",
    "            value = float(G.edges[u, v][obj][0])\n",
    "            eval_objs[obj] += value\n",
    "        \n",
    "    return eval_objs\n",
    "\n",
    "path_data = []\n",
    "for path in no_duplicates:\n",
    "    eval_objs = evaluate_path(H, path)\n",
    "    eval_objs[\"path\"] = path\n",
    "    path_data.append(eval_objs)"
   ]
  },
  {
   "cell_type": "code",
   "execution_count": 39,
   "id": "77b6e812-0f81-483e-ba5c-ae1d6dc1af71",
   "metadata": {},
   "outputs": [
    {
     "name": "stdout",
     "output_type": "stream",
     "text": [
      "Number of evaluated paths: 944\n"
     ]
    }
   ],
   "source": [
    "print(f\"Number of evaluated paths: {len(path_data)}\")"
   ]
  },
  {
   "cell_type": "markdown",
   "id": "111fa23e-2eee-4bf0-875b-1816155804da",
   "metadata": {},
   "source": [
    "## Step 3 - Pareto Front identification"
   ]
  },
  {
   "cell_type": "code",
   "execution_count": 41,
   "id": "bdbadd7b-cdd6-4c51-9e65-cbc5e7a4888e",
   "metadata": {},
   "outputs": [],
   "source": [
    "class RoutingProblem(Problem):\n",
    "    def __init__(self, path_data):\n",
    "        self.path_data = path_data\n",
    "        super().__init__(n_var=1, n_obj=N_OBJS, n_constr=0, xl=0, xu=len(path_data) - 1)\n",
    "\n",
    "    def _evaluate(self, X, out, *args, **kwargs):\n",
    "        objs = []\n",
    "        for i in X:\n",
    "            idx = int(i[0])\n",
    "            objs.append([self.path_data[idx][obj] for obj in OBJS_NOTIME+OBJS_TIME])\n",
    "        out[\"F\"] = np.array(objs)"
   ]
  },
  {
   "cell_type": "markdown",
   "id": "79dd82bc-9c82-4e94-928b-0ce7423adf2f",
   "metadata": {},
   "source": [
    "We use the [**NSGA-II: Non-dominated Sorting Genetic Algorithm**](https://pymoo.org/algorithms/moo/nsga2.html) to identify the Pareto front."
   ]
  },
  {
   "cell_type": "code",
   "execution_count": 43,
   "id": "720a34a4-d75e-409e-9d13-38dca576f8be",
   "metadata": {},
   "outputs": [
    {
     "name": "stdout",
     "output_type": "stream",
     "text": [
      "==========================================================\n",
      "n_gen  |  n_eval  | n_nds  |      eps      |   indicator  \n",
      "==========================================================\n",
      "     1 |    10000 |    219 |             - |             -\n",
      "     2 |    20000 |    436 |  0.000000E+00 |             f\n",
      "     3 |    30000 |    717 |  0.000000E+00 |             f\n",
      "     4 |    40000 |    973 |  0.000000E+00 |             f\n",
      "     5 |    50000 |   1248 |  0.000000E+00 |             f\n",
      "     6 |    60000 |   1567 |  0.000000E+00 |             f\n",
      "     7 |    70000 |   1887 |  0.000000E+00 |             f\n",
      "     8 |    80000 |   2281 |  0.000000E+00 |             f\n",
      "     9 |    90000 |   2703 |  0.000000E+00 |             f\n",
      "    10 |   100000 |   3167 |  0.000000E+00 |             f\n",
      "CPU times: total: 1min 47s\n",
      "Wall time: 1min 49s\n"
     ]
    },
    {
     "name": "stderr",
     "output_type": "stream",
     "text": [
      "<timed exec>:15: DeprecationWarning: Conversion of an array with ndim > 0 to a scalar is deprecated, and will error in future. Ensure you extract a single element from your array before performing this operation. (Deprecated NumPy 1.25.)\n"
     ]
    }
   ],
   "source": [
    "%%time\n",
    "\n",
    "termination = DefaultMultiObjectiveTermination(\n",
    "    xtol=1e-8,\n",
    "    cvtol=1e-6,\n",
    "    ftol=0.0025,\n",
    "    period=30,\n",
    "    n_max_gen=1000,\n",
    "    n_max_evals=100000\n",
    ")\n",
    "\n",
    "problem = RoutingProblem(path_data)\n",
    "algorithm = NSGA2(pop_size=10000)\n",
    "res = minimize(problem, algorithm, verbose=True, termination=termination)\n",
    "\n",
    "pareto_front = res.F\n",
    "pareto_solutions = [path_data[int(idx)] for idx in res.X]"
   ]
  },
  {
   "cell_type": "code",
   "execution_count": 44,
   "id": "71e4fd49-8bc6-4387-b015-32c7149f0620",
   "metadata": {},
   "outputs": [
    {
     "name": "stdout",
     "output_type": "stream",
     "text": [
      "Number of solutions in Pareto front: 3167\n"
     ]
    }
   ],
   "source": [
    "print(f\"Number of solutions in Pareto front: {len(pareto_solutions)}\")"
   ]
  },
  {
   "cell_type": "markdown",
   "id": "5a763a3f-2a08-4c1a-aced-3b36b344b5df",
   "metadata": {},
   "source": [
    "### Visualize the first path in the list on a map"
   ]
  },
  {
   "cell_type": "code",
   "execution_count": 46,
   "id": "ae611168-3aac-4c4b-a80b-975c73ab9760",
   "metadata": {},
   "outputs": [],
   "source": [
    "def get_coordinates(path):\n",
    "    coordinates = []\n",
    "    for node in path:\n",
    "        n = G.nodes[node]\n",
    "        coordinates.append([n['lat'], n['lon']])\n",
    "    return coordinates"
   ]
  },
  {
   "cell_type": "code",
   "execution_count": 47,
   "id": "9faebfdd-7948-44cc-a4d3-4f18102cda75",
   "metadata": {
    "scrolled": true
   },
   "outputs": [],
   "source": [
    "for p_sol in pareto_solutions:\n",
    "    \n",
    "    coordinates = get_coordinates(p_sol['path'])\n",
    "    \n",
    "    m = fo.Map(location=[coordinates[0][0], coordinates[0][1]], zoom_start=13)\n",
    "    fo.PolyLine(coordinates, color=\"green\", weight=3).add_to(m)\n",
    "    m.save(\"map.html\")\n",
    "    break"
   ]
  },
  {
   "cell_type": "code",
   "execution_count": null,
   "id": "c276dbd2-61fe-4f2f-b005-628f0f4ee7b5",
   "metadata": {},
   "outputs": [],
   "source": [
    "%matplotlib inline\n",
    "\n",
    "x = pareto_front[:, 0]  # first objective\n",
    "y = pareto_front[:, 1]  # second objective\n",
    "z = pareto_front[:, 2]  # third objective\n",
    "\n",
    "fig = plt.figure(figsize=(10, 8))\n",
    "ax = fig.add_subplot(111, projection='3d')\n",
    "\n",
    "scatter = ax.scatter(x, y, z, cmap='viridis', marker='o')\n",
    "\n",
    "ax.set_xlabel('First objective')\n",
    "ax.set_ylabel('Second objective')\n",
    "ax.set_zlabel('Third objective')\n",
    "\n",
    "plt.title('Plot 3D dei dati')\n",
    "plt.show()"
   ]
  },
  {
   "cell_type": "code",
   "execution_count": 48,
   "id": "143d6c39-0cc4-4e5c-bc13-ec656f88c435",
   "metadata": {},
   "outputs": [],
   "source": [
    "def normalize_objectives(F):\n",
    "    F_min = F.min(axis=0)\n",
    "    F_max = F.max(axis=0)\n",
    "    return (F - F_min) / (F_max - F_min + 1e-9), F_min, F_max\n",
    "\n",
    "\n",
    "def calculate_normalized_hypervolume(F, ref_point=None, verbose=True):\n",
    "    F_norm, F_min, F_max = normalize_objectives(F)\n",
    "\n",
    "    if ref_point is None:\n",
    "        ref_point = np.ones(F.shape[1]) * 1.1\n",
    "\n",
    "    hv = HV(ref_point=ref_point)\n",
    "    hv_value = hv.do(F_norm)\n",
    "\n",
    "    print(f\"Normalized hypervolume: {hv_value:.6f}\")\n",
    "    print(f\"Ref point: {ref_point}\")\n",
    "\n",
    "    return hv_value, F_norm\n",
    "\n",
    "\n",
    "def plot_normalized_pareto(F_norm):\n",
    "\n",
    "    if F_norm.shape[1] == 2:\n",
    "        plt.scatter(F_norm[:, 0], F_norm[:, 1])\n",
    "        plt.xlabel(\"Objective 1 (normalized)\")\n",
    "        plt.ylabel(\"Objective 2 (normalized)\")\n",
    "    elif F_norm.shape[1] == 3:\n",
    "        fig = plt.figure()\n",
    "        ax = fig.add_subplot(111, projection='3d')\n",
    "        ax.scatter(F_norm[:, 0], F_norm[:, 1], F_norm[:, 2])\n",
    "        ax.set_xlabel(\"Objective 1 (normalized)\")\n",
    "        ax.set_ylabel(\"Objective 2 (normalized)\")\n",
    "        ax.set_zlabel(\"Objective 3 (normalized)\")\n",
    "    else:\n",
    "        print(\"Plot only for 2 or 3 objectives.\")\n",
    "        return\n",
    "    plt.title(\"Normalized Pareto Front\")\n",
    "    plt.grid(True)\n",
    "    plt.show()"
   ]
  },
  {
   "cell_type": "code",
   "execution_count": 55,
   "id": "79201341-abe5-491d-81ad-aec16795cd44",
   "metadata": {},
   "outputs": [
    {
     "name": "stdout",
     "output_type": "stream",
     "text": [
      "Normalized hypervolume: 1.014170\n",
      "Ref point: [1.1 1.1 1.1]\n"
     ]
    }
   ],
   "source": [
    "hv_value, F_norm = calculate_normalized_hypervolume(res.F)\n",
    "plot_normalized_pareto(F_norm)"
   ]
  },
  {
   "cell_type": "code",
   "execution_count": 56,
   "id": "cea64940-2452-4924-9197-8dedee750495",
   "metadata": {
    "scrolled": true
   },
   "outputs": [
    {
     "data": {
      "text/plain": [
       "array([[0.01911269, 0.06335048, 0.80237673],\n",
       "       [0.35861156, 0.38753803, 0.14197273],\n",
       "       [0.5420919 , 0.56274345, 0.04503945],\n",
       "       ...,\n",
       "       [1.        , 1.        , 0.        ],\n",
       "       [0.        , 0.04509977, 1.        ],\n",
       "       [0.47401952, 0.49774112, 0.05492109]])"
      ]
     },
     "execution_count": 56,
     "metadata": {},
     "output_type": "execute_result"
    }
   ],
   "source": [
    "F_norm"
   ]
  },
  {
   "cell_type": "markdown",
   "id": "ec944270-2430-42be-8927-05724143cbce",
   "metadata": {},
   "source": [
    "## Step 4 - Optimal path selection and interactive exploration"
   ]
  },
  {
   "cell_type": "markdown",
   "id": "1ee63eb2-f039-4630-9197-421c44206d2e",
   "metadata": {},
   "source": [
    "### 4.1 Find the best solution based on user preferences"
   ]
  },
  {
   "cell_type": "code",
   "execution_count": 81,
   "id": "0a942910-7061-4a10-a8c5-c9be177009f8",
   "metadata": {},
   "outputs": [
    {
     "data": {
      "text/plain": [
       "['distance', 'green_area_weight']"
      ]
     },
     "execution_count": 81,
     "metadata": {},
     "output_type": "execute_result"
    }
   ],
   "source": [
    "OBJS_NOTIME"
   ]
  },
  {
   "cell_type": "code",
   "execution_count": 83,
   "id": "46e798b0-55ca-453a-b524-f7ff170da6e0",
   "metadata": {},
   "outputs": [
    {
     "data": {
      "text/plain": [
       "['crash_risk_density_norm']"
      ]
     },
     "execution_count": 83,
     "metadata": {},
     "output_type": "execute_result"
    }
   ],
   "source": [
    "OBJS_TIME"
   ]
  },
  {
   "cell_type": "code",
   "execution_count": 112,
   "id": "cd745257-d84d-4009-a15f-18e01b244aeb",
   "metadata": {},
   "outputs": [],
   "source": [
    "USER_PREF = [0.1, 0.3, 0.6] # sum must be 1"
   ]
  },
  {
   "cell_type": "code",
   "execution_count": 114,
   "id": "56886a81-2201-4b5c-bea0-024b746a044b",
   "metadata": {},
   "outputs": [],
   "source": [
    "weights = np.array(USER_PREF)\n",
    "score = (F_norm * weights).sum(axis=1)\n",
    "best_idx = score.argmin()"
   ]
  },
  {
   "cell_type": "code",
   "execution_count": 116,
   "id": "e54f588a-ae55-4ceb-9da6-ede9e362d9dc",
   "metadata": {},
   "outputs": [
    {
     "data": {
      "text/plain": [
       "8"
      ]
     },
     "execution_count": 116,
     "metadata": {},
     "output_type": "execute_result"
    }
   ],
   "source": [
    "best_idx"
   ]
  },
  {
   "cell_type": "code",
   "execution_count": 118,
   "id": "e8333dd1-6e63-4acd-a6e4-91ee46e03368",
   "metadata": {
    "scrolled": true
   },
   "outputs": [
    {
     "data": {
      "text/plain": [
       "{'distance': 3390.145536455731,\n",
       " 'green_area_weight': 3390.145536455731,\n",
       " 'crash_risk_density_norm': 14.485181271556108,\n",
       " 'path': [39769,\n",
       "  39768,\n",
       "  15261,\n",
       "  15260,\n",
       "  15259,\n",
       "  15258,\n",
       "  15257,\n",
       "  31128,\n",
       "  36172,\n",
       "  15256,\n",
       "  15255,\n",
       "  15254,\n",
       "  15253,\n",
       "  15252,\n",
       "  15251,\n",
       "  11554,\n",
       "  11586,\n",
       "  11563,\n",
       "  11572,\n",
       "  11555,\n",
       "  16318,\n",
       "  11541,\n",
       "  11534,\n",
       "  16642,\n",
       "  12310,\n",
       "  44579,\n",
       "  44580,\n",
       "  12306,\n",
       "  11556,\n",
       "  12307,\n",
       "  12308,\n",
       "  12311,\n",
       "  16589,\n",
       "  16590,\n",
       "  16591,\n",
       "  44166,\n",
       "  16592,\n",
       "  16593,\n",
       "  25142,\n",
       "  16598,\n",
       "  16599,\n",
       "  44138,\n",
       "  16600,\n",
       "  16603,\n",
       "  572,\n",
       "  583,\n",
       "  575,\n",
       "  573,\n",
       "  12341,\n",
       "  24621,\n",
       "  12340,\n",
       "  12363,\n",
       "  31838,\n",
       "  12362,\n",
       "  12368,\n",
       "  46341,\n",
       "  46342,\n",
       "  46343,\n",
       "  46344,\n",
       "  46346,\n",
       "  46348,\n",
       "  46347,\n",
       "  8411,\n",
       "  8410,\n",
       "  34260,\n",
       "  34258,\n",
       "  11432,\n",
       "  8409,\n",
       "  7083,\n",
       "  43833,\n",
       "  46123,\n",
       "  25192,\n",
       "  25193,\n",
       "  46111,\n",
       "  17298,\n",
       "  35862,\n",
       "  17552,\n",
       "  17297,\n",
       "  620,\n",
       "  619,\n",
       "  34346,\n",
       "  16532,\n",
       "  618,\n",
       "  46112,\n",
       "  617,\n",
       "  26526,\n",
       "  16522,\n",
       "  46113,\n",
       "  6920,\n",
       "  16524,\n",
       "  45326,\n",
       "  45325,\n",
       "  45324,\n",
       "  45174,\n",
       "  45175,\n",
       "  45176,\n",
       "  45173,\n",
       "  34681,\n",
       "  26519,\n",
       "  24170,\n",
       "  6037,\n",
       "  17787,\n",
       "  46119,\n",
       "  614,\n",
       "  17789,\n",
       "  17788]}"
      ]
     },
     "execution_count": 118,
     "metadata": {},
     "output_type": "execute_result"
    }
   ],
   "source": [
    "pareto_solutions[best_idx]"
   ]
  },
  {
   "cell_type": "code",
   "execution_count": 120,
   "id": "ee991053-7716-4dde-a3a2-2bdd49ef3ade",
   "metadata": {},
   "outputs": [],
   "source": [
    "coordinates = get_coordinates(pareto_solutions[best_idx]['path'])\n",
    "\n",
    "m = fo.Map(location=[coordinates[0][0], coordinates[0][1]], zoom_start=13)\n",
    "fo.PolyLine(coordinates, color=\"green\", weight=3).add_to(m)\n",
    "m.save(\"best_path_user_preferences.html\")"
   ]
  },
  {
   "cell_type": "markdown",
   "id": "089e8b94-7a9a-41bd-98ba-8d212385f4ab",
   "metadata": {},
   "source": [
    "### 4.2 Find the solution with the optimal trade-off (points closest to the center of pareto front)"
   ]
  },
  {
   "cell_type": "code",
   "execution_count": 96,
   "id": "b3eb139b-174b-4f2d-80aa-049c60e4e7f0",
   "metadata": {},
   "outputs": [],
   "source": [
    "from numpy.linalg import norm\n",
    "\n",
    "distances = norm(F_norm, axis=1)\n",
    "best_idx = distances.argmin()"
   ]
  },
  {
   "cell_type": "code",
   "execution_count": 98,
   "id": "519489d2-c83c-44f4-8156-ea53f7a2ca34",
   "metadata": {
    "scrolled": true
   },
   "outputs": [
    {
     "data": {
      "text/plain": [
       "{'distance': 3005.7895052060085,\n",
       " 'green_area_weight': 3005.7895052060085,\n",
       " 'crash_risk_density_norm': 17.804426013031385,\n",
       " 'path': [39769,\n",
       "  39768,\n",
       "  15261,\n",
       "  15260,\n",
       "  15259,\n",
       "  15258,\n",
       "  33149,\n",
       "  4471,\n",
       "  31125,\n",
       "  34609,\n",
       "  31124,\n",
       "  31130,\n",
       "  12388,\n",
       "  12389,\n",
       "  4482,\n",
       "  16261,\n",
       "  28349,\n",
       "  4479,\n",
       "  12326,\n",
       "  4480,\n",
       "  12329,\n",
       "  12330,\n",
       "  42371,\n",
       "  26126,\n",
       "  11029,\n",
       "  11030,\n",
       "  16341,\n",
       "  12352,\n",
       "  12353,\n",
       "  34370,\n",
       "  25154,\n",
       "  13855,\n",
       "  31790,\n",
       "  37012,\n",
       "  16615,\n",
       "  12356,\n",
       "  12224,\n",
       "  10954,\n",
       "  5582,\n",
       "  10955,\n",
       "  10956,\n",
       "  16356,\n",
       "  571,\n",
       "  34475,\n",
       "  574,\n",
       "  26136,\n",
       "  12364,\n",
       "  12363,\n",
       "  31838,\n",
       "  12362,\n",
       "  12368,\n",
       "  46341,\n",
       "  46342,\n",
       "  46343,\n",
       "  46344,\n",
       "  46346,\n",
       "  46348,\n",
       "  46347,\n",
       "  8411,\n",
       "  8410,\n",
       "  34260,\n",
       "  34258,\n",
       "  11432,\n",
       "  8409,\n",
       "  7083,\n",
       "  43833,\n",
       "  46123,\n",
       "  25192,\n",
       "  25193,\n",
       "  8333,\n",
       "  8332,\n",
       "  621,\n",
       "  35858,\n",
       "  17551,\n",
       "  16550,\n",
       "  620,\n",
       "  619,\n",
       "  34346,\n",
       "  16532,\n",
       "  618,\n",
       "  46112,\n",
       "  617,\n",
       "  26526,\n",
       "  16522,\n",
       "  46113,\n",
       "  6920,\n",
       "  26572,\n",
       "  13890,\n",
       "  616,\n",
       "  46114,\n",
       "  615,\n",
       "  45174,\n",
       "  45175,\n",
       "  36359,\n",
       "  36360,\n",
       "  26518,\n",
       "  46116,\n",
       "  34681,\n",
       "  26519,\n",
       "  24170,\n",
       "  6037,\n",
       "  17787,\n",
       "  46119,\n",
       "  614,\n",
       "  17789,\n",
       "  17788]}"
      ]
     },
     "execution_count": 98,
     "metadata": {},
     "output_type": "execute_result"
    }
   ],
   "source": [
    "pareto_solutions[best_idx]"
   ]
  },
  {
   "cell_type": "code",
   "execution_count": 100,
   "id": "5f049b90-a5ab-4b1c-907e-aa6dc711667a",
   "metadata": {},
   "outputs": [],
   "source": [
    "coordinates = get_coordinates(pareto_solutions[best_idx]['path'])\n",
    "\n",
    "m = fo.Map(location=[coordinates[0][0], coordinates[0][1]], zoom_start=13)\n",
    "fo.PolyLine(coordinates, color=\"green\", weight=3).add_to(m)\n",
    "m.save(\"optimal_trade_off.html\")"
   ]
  },
  {
   "cell_type": "code",
   "execution_count": null,
   "id": "5d1f706a-3f39-48dd-9ab8-e5d1688ae6f4",
   "metadata": {},
   "outputs": [],
   "source": []
  }
 ],
 "metadata": {
  "kernelspec": {
   "display_name": "Python [conda env:base] *",
   "language": "python",
   "name": "conda-base-py"
  },
  "language_info": {
   "codemirror_mode": {
    "name": "ipython",
    "version": 3
   },
   "file_extension": ".py",
   "mimetype": "text/x-python",
   "name": "python",
   "nbconvert_exporter": "python",
   "pygments_lexer": "ipython3",
   "version": "3.12.7"
  }
 },
 "nbformat": 4,
 "nbformat_minor": 5
}
